{
 "cells": [
  {
   "cell_type": "code",
   "execution_count": 14,
   "id": "769e9a02",
   "metadata": {},
   "outputs": [],
   "source": [
    "# My Initial Imports\n",
    "import os\n",
    "import requests\n",
    "import pandas as pd\n",
    "from dotenv import load_dotenv\n",
    "import alpaca_trade_api as tradeapi\n",
    "from MCForecastTools import MCSimulation\n",
    "import json\n",
    "\n",
    "%matplotlib inline"
   ]
  },
  {
   "cell_type": "code",
   "execution_count": 15,
   "id": "75b67f12",
   "metadata": {},
   "outputs": [
    {
     "data": {
      "text/plain": [
       "True"
      ]
     },
     "execution_count": 15,
     "metadata": {},
     "output_type": "execute_result"
    }
   ],
   "source": [
    "# Load .env environment variiables\n",
    "from dotenv import load_dotenv\n",
    "load_dotenv('C:/Users/chefd/OneDrive/Desktop/keys/.env.txt')"
   ]
  },
  {
   "cell_type": "code",
   "execution_count": 16,
   "id": "f34feebb",
   "metadata": {},
   "outputs": [],
   "source": [
    "# Set current amount of crypto assets\n",
    "my_btc = 1.2\n",
    "my_eth = 5.3"
   ]
  },
  {
   "cell_type": "code",
   "execution_count": 17,
   "id": "39e4f466",
   "metadata": {},
   "outputs": [],
   "source": [
    "# Crypto API URLs\n",
    "btc_url = \"https://api.alternative.me/v2/ticker/Bitcoin/?convert=CAD\"\n",
    "eth_url = \"https://api.alternative.me/v2/ticker/Ethereum/?convert=CAD\""
   ]
  },
  {
   "cell_type": "code",
   "execution_count": 18,
   "id": "8d87f97f",
   "metadata": {},
   "outputs": [
    {
     "name": "stdout",
     "output_type": "stream",
     "text": [
      "The current price of BTC is   $27421.91\n",
      "The current price of ETH is   $1572.19\n"
     ]
    }
   ],
   "source": [
    "# Fetch current BTC price\n",
    "fetch_btc=requests.get(btc_url).json()\n",
    "btc_current_price = fetch_btc['data']['1']['quotes']['CAD']['price']\n",
    "\n",
    "\n",
    "# Fetch current ETH price\n",
    "fetch_eth=requests.get(eth_url).json()\n",
    "eth_current_price = fetch_eth['data']['1027']['quotes']['CAD']['price']\n",
    "\n",
    "print(f\"The current price of BTC is   ${btc_current_price:0.2f}\")\n",
    "print(f\"The current price of ETH is   ${eth_current_price:0.2f}\")"
   ]
  },
  {
   "cell_type": "code",
   "execution_count": 22,
   "id": "72c96482",
   "metadata": {},
   "outputs": [
    {
     "name": "stdout",
     "output_type": "stream",
     "text": [
      "{\n",
      "    \"data\": {\n",
      "        \"1\": {\n",
      "            \"id\": 1,\n",
      "            \"name\": \"Bitcoin\",\n",
      "            \"symbol\": \"BTC\",\n",
      "            \"website_slug\": \"bitcoin\",\n",
      "            \"rank\": 1,\n",
      "            \"circulating_supply\": 19078437,\n",
      "            \"total_supply\": 19078437,\n",
      "            \"max_supply\": 21000000,\n",
      "            \"quotes\": {\n",
      "                \"USD\": {\n",
      "                    \"price\": 21254.0,\n",
      "                    \"volume_24h\": 16211089784,\n",
      "                    \"market_cap\": 406382369102,\n",
      "                    \"percentage_change_1h\": -0.459556871408425,\n",
      "                    \"percentage_change_24h\": -1.84948295826784,\n",
      "                    \"percentage_change_7d\": 3.59598149577165,\n",
      "                    \"percent_change_1h\": -0.459556871408425,\n",
      "                    \"percent_change_24h\": -1.84948295826784,\n",
      "                    \"percent_change_7d\": 3.59598149577165\n",
      "                },\n",
      "                \"CAD\": {\n",
      "                    \"price\": 27421.9108,\n",
      "                    \"volume_24h\": 20915548039.3168,\n",
      "                    \"market_cap\": 524314532615.4,\n",
      "                    \"percent_change_1h\": -0.459556871408425,\n",
      "                    \"percent_change_24h\": -1.84948295826784,\n",
      "                    \"percent_change_7d\": 3.59598149577165\n",
      "                }\n",
      "            },\n",
      "            \"last_updated\": 1656333505\n",
      "        }\n",
      "    },\n",
      "    \"metadata\": {\n",
      "        \"timestamp\": 1656333505,\n",
      "        \"num_cryptocurrencies\": 3116,\n",
      "        \"error\": null\n",
      "    }\n",
      "}\n"
     ]
    }
   ],
   "source": [
    "# showing dump data where values were retrieved \n",
    "print(json.dumps(fetch_btc, indent=4))"
   ]
  },
  {
   "cell_type": "code",
   "execution_count": 23,
   "id": "1cc32ba4",
   "metadata": {},
   "outputs": [
    {
     "name": "stdout",
     "output_type": "stream",
     "text": [
      "{\n",
      "    \"data\": {\n",
      "        \"1027\": {\n",
      "            \"id\": 1027,\n",
      "            \"name\": \"Ethereum\",\n",
      "            \"symbol\": \"ETH\",\n",
      "            \"website_slug\": \"ethereum\",\n",
      "            \"rank\": 2,\n",
      "            \"circulating_supply\": 121320559,\n",
      "            \"total_supply\": 121320559,\n",
      "            \"max_supply\": 0,\n",
      "            \"quotes\": {\n",
      "                \"USD\": {\n",
      "                    \"price\": 1218.56,\n",
      "                    \"volume_24h\": 11544137598,\n",
      "                    \"market_cap\": 148161664510,\n",
      "                    \"percentage_change_1h\": -0.436492296175648,\n",
      "                    \"percentage_change_24h\": -3.47886285474671,\n",
      "                    \"percentage_change_7d\": 8.24411653790025,\n",
      "                    \"percent_change_1h\": -0.436492296175648,\n",
      "                    \"percent_change_24h\": -3.47886285474671,\n",
      "                    \"percent_change_7d\": 8.24411653790025\n",
      "                },\n",
      "                \"CAD\": {\n",
      "                    \"price\": 1572.186112,\n",
      "                    \"volume_24h\": 14894246328.9396,\n",
      "                    \"market_cap\": 191158179550.802,\n",
      "                    \"percent_change_1h\": -0.436492296175648,\n",
      "                    \"percent_change_24h\": -3.47886285474671,\n",
      "                    \"percent_change_7d\": 8.24411653790025\n",
      "                }\n",
      "            },\n",
      "            \"last_updated\": 1656333537\n",
      "        }\n",
      "    },\n",
      "    \"metadata\": {\n",
      "        \"timestamp\": 1656333537,\n",
      "        \"num_cryptocurrencies\": 3116,\n",
      "        \"error\": null\n",
      "    }\n",
      "}\n"
     ]
    }
   ],
   "source": [
    "# showing dump data where values were retrieved \n",
    "print(json.dumps(fetch_eth, indent=4))"
   ]
  },
  {
   "cell_type": "code",
   "execution_count": 24,
   "id": "3e7d1e77",
   "metadata": {},
   "outputs": [
    {
     "name": "stdout",
     "output_type": "stream",
     "text": [
      "The current value of your 1.2 BTC is  $32906.29\n",
      "The current value of your 5.3 ETH is  $8332.59\n"
     ]
    }
   ],
   "source": [
    "# Compute current value of my crpto\n",
    "btc_value = my_btc * btc_current_price\n",
    "eth_value = my_eth * eth_current_price\n",
    "\n",
    "print(f\"The current value of your {my_btc} BTC is  ${btc_value:0.2f}\")\n",
    "print(f\"The current value of your {my_eth} ETH is  ${eth_value:0.2f}\")"
   ]
  },
  {
   "cell_type": "code",
   "execution_count": 56,
   "id": "48eb12b5",
   "metadata": {},
   "outputs": [
    {
     "name": "stdout",
     "output_type": "stream",
     "text": [
      "The current value of your Coins is $41238.88\n"
     ]
    }
   ],
   "source": [
    "# Value of combined shares of btc and eth\n",
    "combined_crypto_value = btc_value + eth_value\n",
    "\n",
    "\n",
    "print(f\"The current value of your Coins is ${combined_crypto_value:0.2f}\")"
   ]
  },
  {
   "cell_type": "code",
   "execution_count": 26,
   "id": "7d65b17d",
   "metadata": {},
   "outputs": [],
   "source": [
    "#  Collect Investments Data Using Alpaca: SPY (stocks) and AGG (bonds)"
   ]
  },
  {
   "cell_type": "code",
   "execution_count": 41,
   "id": "1feb24f5",
   "metadata": {},
   "outputs": [],
   "source": [
    "# Set current amount of shares\n",
    "my_agg = 200\n",
    "my_spy = 50"
   ]
  },
  {
   "cell_type": "code",
   "execution_count": 42,
   "id": "f7c1d315",
   "metadata": {},
   "outputs": [],
   "source": [
    "# Set Alpaca API key and secret\n",
    "alpaca_api_key = os.getenv(\"ALPACA_API_KEY\")\n",
    "alpaca_secret_key = os.getenv(\"ALPACA_SECRET_KEY\")"
   ]
  },
  {
   "cell_type": "code",
   "execution_count": 43,
   "id": "8605b45f",
   "metadata": {},
   "outputs": [
    {
     "name": "stdout",
     "output_type": "stream",
     "text": [
      "Alpaca Key type: <class 'str'>\n",
      "Alpaca Secret Key type: <class 'str'>\n"
     ]
    }
   ],
   "source": [
    "# Verify that Alpaca key and secret were correctly loaded\n",
    "print(f\"Alpaca Key type: {type(alpaca_api_key)}\")\n",
    "print(f\"Alpaca Secret Key type: {type(alpaca_secret_key)}\")"
   ]
  },
  {
   "cell_type": "code",
   "execution_count": 44,
   "id": "0093ef6b",
   "metadata": {},
   "outputs": [],
   "source": [
    "# Create the Alpaca API object\n",
    "alpaca = tradeapi.REST(\n",
    "    alpaca_api_key,\n",
    "    alpaca_secret_key,\n",
    "    api_version=\"v2\")"
   ]
  },
  {
   "cell_type": "code",
   "execution_count": 45,
   "id": "9fbf3242",
   "metadata": {},
   "outputs": [],
   "source": [
    "# Format current date as ISO format\n",
    "today = pd.Timestamp(\"2022-06-22\", tz=\"America/New_York\").isoformat()"
   ]
  },
  {
   "cell_type": "code",
   "execution_count": 46,
   "id": "ec2ab426",
   "metadata": {},
   "outputs": [],
   "source": [
    "# Set the tickers\n",
    "tickers = [\"AGG\", \"SPY\"]"
   ]
  },
  {
   "cell_type": "code",
   "execution_count": 47,
   "id": "d5eeb665",
   "metadata": {},
   "outputs": [],
   "source": [
    "# Set timeframe to \"1Day\" for Alpaca API\n",
    "timeframe = \"1Day\""
   ]
  },
  {
   "cell_type": "code",
   "execution_count": 48,
   "id": "a97d8e37",
   "metadata": {},
   "outputs": [],
   "source": [
    "# Get current closing prices for AGG and SPY\n",
    "df_portfolio = alpaca.get_bars(\n",
    "    tickers,\n",
    "    timeframe,\n",
    "    start = today,\n",
    "    end = today\n",
    ").df"
   ]
  },
  {
   "cell_type": "code",
   "execution_count": 49,
   "id": "9117c542",
   "metadata": {},
   "outputs": [
    {
     "data": {
      "text/html": [
       "<div>\n",
       "<style scoped>\n",
       "    .dataframe tbody tr th:only-of-type {\n",
       "        vertical-align: middle;\n",
       "    }\n",
       "\n",
       "    .dataframe tbody tr th {\n",
       "        vertical-align: top;\n",
       "    }\n",
       "\n",
       "    .dataframe thead th {\n",
       "        text-align: right;\n",
       "    }\n",
       "</style>\n",
       "<table border=\"1\" class=\"dataframe\">\n",
       "  <thead>\n",
       "    <tr style=\"text-align: right;\">\n",
       "      <th></th>\n",
       "      <th>open</th>\n",
       "      <th>high</th>\n",
       "      <th>low</th>\n",
       "      <th>close</th>\n",
       "      <th>volume</th>\n",
       "      <th>trade_count</th>\n",
       "      <th>vwap</th>\n",
       "      <th>symbol</th>\n",
       "    </tr>\n",
       "    <tr>\n",
       "      <th>timestamp</th>\n",
       "      <th></th>\n",
       "      <th></th>\n",
       "      <th></th>\n",
       "      <th></th>\n",
       "      <th></th>\n",
       "      <th></th>\n",
       "      <th></th>\n",
       "      <th></th>\n",
       "    </tr>\n",
       "  </thead>\n",
       "  <tbody>\n",
       "    <tr>\n",
       "      <th>2022-06-22 04:00:00+00:00</th>\n",
       "      <td>100.67</td>\n",
       "      <td>100.9296</td>\n",
       "      <td>100.665</td>\n",
       "      <td>100.79</td>\n",
       "      <td>9430887</td>\n",
       "      <td>30103</td>\n",
       "      <td>100.802688</td>\n",
       "      <td>AGG</td>\n",
       "    </tr>\n",
       "    <tr>\n",
       "      <th>2022-06-22 04:00:00+00:00</th>\n",
       "      <td>370.68</td>\n",
       "      <td>378.7200</td>\n",
       "      <td>370.180</td>\n",
       "      <td>374.39</td>\n",
       "      <td>89625876</td>\n",
       "      <td>604343</td>\n",
       "      <td>375.146941</td>\n",
       "      <td>SPY</td>\n",
       "    </tr>\n",
       "  </tbody>\n",
       "</table>\n",
       "</div>"
      ],
      "text/plain": [
       "                             open      high      low   close    volume  \\\n",
       "timestamp                                                                \n",
       "2022-06-22 04:00:00+00:00  100.67  100.9296  100.665  100.79   9430887   \n",
       "2022-06-22 04:00:00+00:00  370.68  378.7200  370.180  374.39  89625876   \n",
       "\n",
       "                           trade_count        vwap symbol  \n",
       "timestamp                                                  \n",
       "2022-06-22 04:00:00+00:00        30103  100.802688    AGG  \n",
       "2022-06-22 04:00:00+00:00       604343  375.146941    SPY  "
      ]
     },
     "execution_count": 49,
     "metadata": {},
     "output_type": "execute_result"
    }
   ],
   "source": [
    "# Get closing prices for AGG and SPY from the last year\n",
    "df_portfolio_year = alpaca.get_bars(\n",
    "    tickers,\n",
    "    timeframe,\n",
    "    start = today,\n",
    "    end = today,\n",
    ").df\n",
    "\n",
    "# Display sample data\n",
    "df_portfolio_year.head()"
   ]
  },
  {
   "cell_type": "code",
   "execution_count": 50,
   "id": "13e2489a",
   "metadata": {},
   "outputs": [
    {
     "data": {
      "text/html": [
       "<div>\n",
       "<style scoped>\n",
       "    .dataframe tbody tr th:only-of-type {\n",
       "        vertical-align: middle;\n",
       "    }\n",
       "\n",
       "    .dataframe tbody tr th {\n",
       "        vertical-align: top;\n",
       "    }\n",
       "\n",
       "    .dataframe thead tr th {\n",
       "        text-align: left;\n",
       "    }\n",
       "\n",
       "    .dataframe thead tr:last-of-type th {\n",
       "        text-align: right;\n",
       "    }\n",
       "</style>\n",
       "<table border=\"1\" class=\"dataframe\">\n",
       "  <thead>\n",
       "    <tr>\n",
       "      <th></th>\n",
       "      <th colspan=\"7\" halign=\"left\">AGG</th>\n",
       "      <th colspan=\"7\" halign=\"left\">SPY</th>\n",
       "    </tr>\n",
       "    <tr>\n",
       "      <th></th>\n",
       "      <th>open</th>\n",
       "      <th>high</th>\n",
       "      <th>low</th>\n",
       "      <th>close</th>\n",
       "      <th>volume</th>\n",
       "      <th>trade_count</th>\n",
       "      <th>vwap</th>\n",
       "      <th>open</th>\n",
       "      <th>high</th>\n",
       "      <th>low</th>\n",
       "      <th>close</th>\n",
       "      <th>volume</th>\n",
       "      <th>trade_count</th>\n",
       "      <th>vwap</th>\n",
       "    </tr>\n",
       "    <tr>\n",
       "      <th>timestamp</th>\n",
       "      <th></th>\n",
       "      <th></th>\n",
       "      <th></th>\n",
       "      <th></th>\n",
       "      <th></th>\n",
       "      <th></th>\n",
       "      <th></th>\n",
       "      <th></th>\n",
       "      <th></th>\n",
       "      <th></th>\n",
       "      <th></th>\n",
       "      <th></th>\n",
       "      <th></th>\n",
       "      <th></th>\n",
       "    </tr>\n",
       "  </thead>\n",
       "  <tbody>\n",
       "    <tr>\n",
       "      <th>2022-06-22 04:00:00+00:00</th>\n",
       "      <td>100.67</td>\n",
       "      <td>100.9296</td>\n",
       "      <td>100.665</td>\n",
       "      <td>100.79</td>\n",
       "      <td>9430887</td>\n",
       "      <td>30103</td>\n",
       "      <td>100.802688</td>\n",
       "      <td>370.68</td>\n",
       "      <td>378.72</td>\n",
       "      <td>370.18</td>\n",
       "      <td>374.39</td>\n",
       "      <td>89625876</td>\n",
       "      <td>604343</td>\n",
       "      <td>375.146941</td>\n",
       "    </tr>\n",
       "  </tbody>\n",
       "</table>\n",
       "</div>"
      ],
      "text/plain": [
       "                              AGG                                      \\\n",
       "                             open      high      low   close   volume   \n",
       "timestamp                                                               \n",
       "2022-06-22 04:00:00+00:00  100.67  100.9296  100.665  100.79  9430887   \n",
       "\n",
       "                                                      SPY                  \\\n",
       "                          trade_count        vwap    open    high     low   \n",
       "timestamp                                                                   \n",
       "2022-06-22 04:00:00+00:00       30103  100.802688  370.68  378.72  370.18   \n",
       "\n",
       "                                                                     \n",
       "                            close    volume trade_count        vwap  \n",
       "timestamp                                                            \n",
       "2022-06-22 04:00:00+00:00  374.39  89625876      604343  375.146941  "
      ]
     },
     "execution_count": 50,
     "metadata": {},
     "output_type": "execute_result"
    }
   ],
   "source": [
    "# Reorganize the DataFrame\n",
    "\n",
    "# Separate ticker data\n",
    "AGG = df_portfolio[df_portfolio['symbol']=='AGG'].drop('symbol', axis=1)\n",
    "SPY = df_portfolio[df_portfolio['symbol']=='SPY'].drop('symbol', axis=1)\n",
    "\n",
    "# Concatenate the ticker DataFrames\n",
    "df_portfolio = pd.concat([AGG, SPY],axis=1, keys=['AGG','SPY'])\n",
    "\n",
    "# Preview DataFrame\n",
    "df_portfolio"
   ]
  },
  {
   "cell_type": "code",
   "execution_count": 51,
   "id": "598b6551",
   "metadata": {},
   "outputs": [
    {
     "name": "stdout",
     "output_type": "stream",
     "text": [
      "Current AGG closing price: $100.79\n",
      "Current SPY closing price: $374.39\n"
     ]
    }
   ],
   "source": [
    "# Pick AGG and SPY close prices\n",
    "agg_close_price = float(df_portfolio[\"AGG\"][\"close\"])\n",
    "spy_close_price = float(df_portfolio[\"SPY\"][\"close\"])\n",
    "\n",
    "# Print AGG and SPY close prices\n",
    "print(f\"Current AGG closing price: ${agg_close_price}\")\n",
    "print(f\"Current SPY closing price: ${spy_close_price}\")"
   ]
  },
  {
   "cell_type": "code",
   "execution_count": 52,
   "id": "5d1f7230",
   "metadata": {},
   "outputs": [
    {
     "name": "stdout",
     "output_type": "stream",
     "text": [
      "The current value of your 200 AGG shares is $20158.00\n",
      "The current value of your 50 SPY shares is $18719.50\n"
     ]
    }
   ],
   "source": [
    "# Compute the current USD value of shares\n",
    "my_agg_value = my_agg * agg_close_price\n",
    "my_spy_value = my_spy * spy_close_price\n",
    "\n",
    "\n",
    "# Compute the current value of shares\n",
    "# Print current value of shares\n",
    "print(f\"The current value of your {my_agg} AGG shares is ${my_agg_value:0.2f}\")\n",
    "print(f\"The current value of your {my_spy} SPY shares is ${my_spy_value:0.2f}\")"
   ]
  },
  {
   "cell_type": "code",
   "execution_count": 53,
   "id": "700abfb2",
   "metadata": {},
   "outputs": [
    {
     "name": "stdout",
     "output_type": "stream",
     "text": [
      "The current value of your Shares is $38877.50\n"
     ]
    }
   ],
   "source": [
    "# Value of combined shares of AGG and SPY\n",
    "shares = my_spy_value + my_agg_value\n",
    "\n",
    "print(f\"The current value of your Shares is ${shares:0.2f}\")"
   ]
  },
  {
   "cell_type": "code",
   "execution_count": 54,
   "id": "f7de7f83",
   "metadata": {},
   "outputs": [],
   "source": [
    "# Savings Health Analysis"
   ]
  },
  {
   "cell_type": "code",
   "execution_count": 85,
   "id": "c02f52f0",
   "metadata": {},
   "outputs": [],
   "source": [
    "# Set monthly household income\n",
    "monthly_household_income = 12000"
   ]
  },
  {
   "cell_type": "code",
   "execution_count": 86,
   "id": "8a93ab32",
   "metadata": {},
   "outputs": [
    {
     "name": "stdout",
     "output_type": "stream",
     "text": [
      "Consolidated assets are, $80116.38\n"
     ]
    }
   ],
   "source": [
    "# Consolidate financial assets data\n",
    "consolidated_assests = combined_crypto_value + shares\n",
    "print(f\"Consolidated assets are, ${consolidated_assests:0.2f}\")"
   ]
  },
  {
   "cell_type": "code",
   "execution_count": 87,
   "id": "c54eb33d",
   "metadata": {},
   "outputs": [],
   "source": [
    "# Create savings DataFrame\n",
    "investments_data = {\"amount\": [combined_crypto_value, shares]}\n",
    "investments = [\"CRYPTO CURRENCY\", \"SHARES\"]"
   ]
  },
  {
   "cell_type": "code",
   "execution_count": 88,
   "id": "13fddec2",
   "metadata": {},
   "outputs": [
    {
     "data": {
      "text/html": [
       "<div>\n",
       "<style scoped>\n",
       "    .dataframe tbody tr th:only-of-type {\n",
       "        vertical-align: middle;\n",
       "    }\n",
       "\n",
       "    .dataframe tbody tr th {\n",
       "        vertical-align: top;\n",
       "    }\n",
       "\n",
       "    .dataframe thead th {\n",
       "        text-align: right;\n",
       "    }\n",
       "</style>\n",
       "<table border=\"1\" class=\"dataframe\">\n",
       "  <thead>\n",
       "    <tr style=\"text-align: right;\">\n",
       "      <th></th>\n",
       "      <th>amount</th>\n",
       "    </tr>\n",
       "  </thead>\n",
       "  <tbody>\n",
       "    <tr>\n",
       "      <th>0</th>\n",
       "      <td>41238.879354</td>\n",
       "    </tr>\n",
       "    <tr>\n",
       "      <th>1</th>\n",
       "      <td>38877.500000</td>\n",
       "    </tr>\n",
       "  </tbody>\n",
       "</table>\n",
       "</div>"
      ],
      "text/plain": [
       "         amount\n",
       "0  41238.879354\n",
       "1  38877.500000"
      ]
     },
     "execution_count": 88,
     "metadata": {},
     "output_type": "execute_result"
    }
   ],
   "source": [
    "df_savings = pd.DataFrame(investments_data,)\n",
    "df_savings"
   ]
  },
  {
   "cell_type": "code",
   "execution_count": 89,
   "id": "a0d5a81a",
   "metadata": {},
   "outputs": [
    {
     "data": {
      "text/html": [
       "<div>\n",
       "<style scoped>\n",
       "    .dataframe tbody tr th:only-of-type {\n",
       "        vertical-align: middle;\n",
       "    }\n",
       "\n",
       "    .dataframe tbody tr th {\n",
       "        vertical-align: top;\n",
       "    }\n",
       "\n",
       "    .dataframe thead th {\n",
       "        text-align: right;\n",
       "    }\n",
       "</style>\n",
       "<table border=\"1\" class=\"dataframe\">\n",
       "  <thead>\n",
       "    <tr style=\"text-align: right;\">\n",
       "      <th></th>\n",
       "      <th>amount</th>\n",
       "    </tr>\n",
       "  </thead>\n",
       "  <tbody>\n",
       "    <tr>\n",
       "      <th>CRYPTO CURRENCY</th>\n",
       "      <td>41238.879354</td>\n",
       "    </tr>\n",
       "    <tr>\n",
       "      <th>SHARES</th>\n",
       "      <td>38877.500000</td>\n",
       "    </tr>\n",
       "  </tbody>\n",
       "</table>\n",
       "</div>"
      ],
      "text/plain": [
       "                       amount\n",
       "CRYPTO CURRENCY  41238.879354\n",
       "SHARES           38877.500000"
      ]
     },
     "execution_count": 89,
     "metadata": {},
     "output_type": "execute_result"
    }
   ],
   "source": [
    "df_savings = pd.DataFrame(investments_data, index=investments)\n",
    "df_savings"
   ]
  },
  {
   "cell_type": "code",
   "execution_count": 90,
   "id": "00e07e14",
   "metadata": {},
   "outputs": [
    {
     "data": {
      "text/plain": [
       "<AxesSubplot:ylabel='amount'>"
      ]
     },
     "execution_count": 90,
     "metadata": {},
     "output_type": "execute_result"
    },
    {
     "data": {
      "image/png": "[encoded data removed]",
      "text/plain": [
       "<Figure size 432x288 with 1 Axes>"
      ]
     },
     "metadata": {},
     "output_type": "display_data"
    }
   ],
   "source": [
    "# Plot savings pie chart\n",
    "df_savings.plot.pie(y=\"amount\")"
   ]
  },
  {
   "cell_type": "code",
   "execution_count": 94,
   "id": "68b519e2",
   "metadata": {},
   "outputs": [
    {
     "name": "stdout",
     "output_type": "stream",
     "text": [
      "Ideal emergency fund needed $36000\n"
     ]
    }
   ],
   "source": [
    "# Set ideal emergency fund\n",
    "emergency_fund = monthly_household_income * 3\n",
    "print(f\"Ideal emergency fund needed ${emergency_fund}\")\n"
   ]
  },
  {
   "cell_type": "code",
   "execution_count": 95,
   "id": "ee258e70",
   "metadata": {},
   "outputs": [
    {
     "name": "stdout",
     "output_type": "stream",
     "text": [
      "Consolidated assets are, $80116.38\n"
     ]
    }
   ],
   "source": [
    "consolidated_assests = combined_crypto_value + shares\n",
    "print(f\"Consolidated assets are, ${consolidated_assests:0.2f}\")"
   ]
  },
  {
   "cell_type": "code",
   "execution_count": 97,
   "id": "f8d0afd5",
   "metadata": {},
   "outputs": [
    {
     "name": "stdout",
     "output_type": "stream",
     "text": [
      "Congratulations! You have enough money in your emergency fund.\n"
     ]
    }
   ],
   "source": [
    "if consolidated_assests > emergency_fund:\n",
    "    print (\"Congratulations! You have enough money in your emergency fund.\")"
   ]
  },
  {
   "cell_type": "code",
   "execution_count": null,
   "id": "a77d9d19",
   "metadata": {},
   "outputs": [],
   "source": []
  }
 ],
 "metadata": {
  "kernelspec": {
   "display_name": "Python 3 (ipykernel)",
   "language": "python",
   "name": "python3"
  },
  "language_info": {
   "codemirror_mode": {
    "name": "ipython",
    "version": 3
   },
   "file_extension": ".py",
   "mimetype": "text/x-python",
   "name": "python",
   "nbconvert_exporter": "python",
   "pygments_lexer": "ipython3",
   "version": "3.9.12"
  }
 },
 "nbformat": 4,
 "nbformat_minor": 5
}
